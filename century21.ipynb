{
 "cells": [
  {
   "cell_type": "code",
   "execution_count": 46,
   "metadata": {},
   "outputs": [
    {
     "data": {
      "text/plain": [
       "'$725,000'"
      ]
     },
     "execution_count": 46,
     "metadata": {},
     "output_type": "execute_result"
    }
   ],
   "source": [
    "import requests\n",
    "from bs4 import BeautifulSoup\n",
    "\n",
    "#load the webpage\n",
    "r = requests.get(\"http://www.pyclass.com/real-estate/rock-springs-wy/LCWYROCKSPRINGS/\", headers={'User-agent': 'Mozilla/5.0 (X11; Ubuntu; Linux x86_64; rv:61.0) Gecko/20100101 Firefox/61.0'})\n",
    "c=r.content\n",
    "\n",
    "#create parsed object using BeautifulSoup\n",
    "soup = BeautifulSoup(c, \"html.parser\")\n",
    "\n",
    "#parse using find_all to get divs with class property row .... aka load the listings on the page\n",
    "all = soup.find_all(\"div\", {\"class\",\"propertyRow\"})\n",
    "\n",
    "#look for price of first unit on the page return just the price as a text\n",
    "all[0].find(\"h4\", {\"class\",\"propPrice\"}).text.replace(\"\\n\", \"\").replace(\" \", \"\")"
   ]
  },
  {
   "cell_type": "code",
   "execution_count": 55,
   "metadata": {},
   "outputs": [
    {
     "name": "stdout",
     "output_type": "stream",
     "text": [
      "$725,000\n",
      "0 Gateway\n",
      "Rock Springs, WY 82901\n",
      "None\n",
      "None\n",
      "None\n",
      "None\n",
      " \n",
      "$452,900\n",
      "1003 Winchester Blvd.\n",
      "Rock Springs, WY 82901\n",
      "4 bed\n",
      "None\n",
      "4 full bath\n",
      "None\n",
      " \n",
      "$396,900\n",
      "600 Talladega\n",
      "Rock Springs, WY 82901\n",
      "5 bed\n",
      "3,154 SqFt\n",
      "3 full bath\n",
      "None\n",
      " \n",
      "$389,900\n",
      "3239 Spearhead Way\n",
      "Rock Springs, WY 82901\n",
      "4 bed\n",
      "3,076 SqFt\n",
      "3 full bath\n",
      "1 half bath\n",
      " \n",
      "$254,000\n",
      "522 Emerald Street\n",
      "Rock Springs, WY 82901\n",
      "3 bed\n",
      "1,172 SqFt\n",
      "3 full bath\n",
      "None\n",
      " \n",
      "$252,900\n",
      "1302 Veteran's Drive\n",
      "Rock Springs, WY 82901\n",
      "4 bed\n",
      "1,932 SqFt\n",
      "2 full bath\n",
      "None\n",
      " \n",
      "$210,000\n",
      "1021 Cypress Cir\n",
      "Rock Springs, WY 82901\n",
      "4 bed\n",
      "1,676 SqFt\n",
      "3 full bath\n",
      "None\n",
      " \n",
      "$209,000\n",
      "913 Madison Dr\n",
      "Rock Springs, WY 82901\n",
      "3 bed\n",
      "1,344 SqFt\n",
      "2 full bath\n",
      "None\n",
      " \n",
      "$199,900\n",
      "1344 Teton Street\n",
      "Rock Springs, WY 82901\n",
      "3 bed\n",
      "1,920 SqFt\n",
      "2 full bath\n",
      "None\n",
      " \n",
      "$196,900\n",
      "4 Minnies Lane\n",
      "Rock Springs, WY 82901\n",
      "3 bed\n",
      "1,664 SqFt\n",
      "2 full bath\n",
      "None\n",
      " \n"
     ]
    }
   ],
   "source": [
    "#for loop through each item on the page to return all of the prices\n",
    "for item in all:\n",
    "    print(item.find(\"h4\", {\"class\": \"propPrice\"}).text.replace(\"\\n\", \"\").replace(\" \", \"\"))\n",
    "    #now add two lines to return the street address on one line and the city/state info on another\n",
    "    print(item.find_all(\"span\", {\"class\" : \"propAddressCollapse\"})[0].text)\n",
    "    print(item.find_all(\"span\", {\"class\" : \"propAddressCollapse\"})[1].text)\n",
    "    #now extract number of beds/bath\n",
    "    #try to pass bed info, but if nothing there then pass\n",
    "    try:\n",
    "        print(item.find(\"span\", {\"class\" , \"infoBed\"}).find(\"b\").text + \" bed\")\n",
    "    except:\n",
    "        print(None)\n",
    "    #try to pass bathroom info, but if nothing there then pass\n",
    "    try:\n",
    "        print(item.find(\"span\", {\"class\" , \"infoSqFt\"}).find(\"b\").text + \" SqFt\")\n",
    "    except:\n",
    "        print(None)\n",
    "    #try to pass square footage, but if nothing there then pass\n",
    "    try:\n",
    "        print(item.find(\"span\", {\"class\" , \"infoValueFullBath\"}).find(\"b\").text + \" full bath\")\n",
    "    except:\n",
    "        print(None)\n",
    "    #try to pass half bath, but if nothing there then pass\n",
    "    try:\n",
    "        print(item.find(\"span\", {\"class\" , \"infoValueHalfBath\"}).find(\"b\").text + \" half bath\")\n",
    "    except:\n",
    "        print(None)\n",
    "    print(\" \")"
   ]
  },
  {
   "cell_type": "code",
   "execution_count": null,
   "metadata": {},
   "outputs": [],
   "source": []
  }
 ],
 "metadata": {
  "kernelspec": {
   "display_name": "Python 3",
   "language": "python",
   "name": "python3"
  },
  "language_info": {
   "codemirror_mode": {
    "name": "ipython",
    "version": 3
   },
   "file_extension": ".py",
   "mimetype": "text/x-python",
   "name": "python",
   "nbconvert_exporter": "python",
   "pygments_lexer": "ipython3",
   "version": "3.8.0"
  }
 },
 "nbformat": 4,
 "nbformat_minor": 4
}
