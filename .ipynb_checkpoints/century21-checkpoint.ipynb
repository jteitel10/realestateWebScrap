{
 "cells": [
  {
   "cell_type": "code",
   "execution_count": 32,
   "metadata": {},
   "outputs": [
    {
     "data": {
      "text/plain": [
       "'$725,000'"
      ]
     },
     "execution_count": 32,
     "metadata": {},
     "output_type": "execute_result"
    }
   ],
   "source": [
    "import requests, json\n",
    "from bs4 import BeautifulSoup\n",
    "\n",
    "#load the webpage\n",
    "r = requests.get(\"http://www.pyclass.com/real-estate/rock-springs-wy/LCWYROCKSPRINGS/\", headers={'User-agent': 'Mozilla/5.0 (X11; Ubuntu; Linux x86_64; rv:61.0) Gecko/20100101 Firefox/61.0'})\n",
    "c=r.content\n",
    "\n",
    "#create parsed object using BeautifulSoup\n",
    "soup = BeautifulSoup(c, \"html.parser\")\n",
    "\n",
    "#parse using find_all to get divs with class property row .... aka load the listings on the page\n",
    "all = soup.find_all(\"div\", {\"class\",\"propertyRow\"})\n",
    "\n",
    "#look for price of first unit on the page return just the price as a text\n",
    "all[0].find(\"h4\", {\"class\",\"propPrice\"}).text.replace(\"\\n\", \"\").replace(\" \", \"\")"
   ]
  },
  {
   "cell_type": "code",
   "execution_count": 35,
   "metadata": {},
   "outputs": [
    {
     "name": "stdout",
     "output_type": "stream",
     "text": [
      "http://www.pythonhow.com/real-estate/rock-springs-wy/LCWYROCKSPRINGS/t=0&s=0&subview=searchView.Paginate\n",
      "http://www.pythonhow.com/real-estate/rock-springs-wy/LCWYROCKSPRINGS/t=0&s=10&subview=searchView.Paginate\n",
      "http://www.pythonhow.com/real-estate/rock-springs-wy/LCWYROCKSPRINGS/t=0&s=20&subview=searchView.Paginate\n"
     ]
    }
   ],
   "source": [
    "#for loop through each item on the page to return all of the prices\n",
    "l=[]\n",
    "#created the base case url to loop through\n",
    "base_url=\"http://www.pythonhow.com/real-estate/rock-springs-wy/LCWYROCKSPRINGS/t=0&s=\"\n",
    "#loop through each page in the search first\n",
    "for page in range (0,30,10):\n",
    "    print(base_url + str(page) + \"&subview=searchView.Paginate\")\n",
    "    r=requests.get(base_url+str(page)+ \"&subview=searchView.Paginate\")\n",
    "    c=r.content\n",
    "    soup = BeautifulSoup(c, \"html.parser\")\n",
    "    all=soup.find_all(\"div\",{\"class\" : \"propertyRow\"})\n",
    "    #loop through each listing on the page\n",
    "    for item in all:\n",
    "        #create an empty dictionary to store each objects information\n",
    "        d={}\n",
    "        #now add two lines to return the street address on one line and the city/state info on another\n",
    "        d[\"Address\"] = (item.find_all(\"span\", {\"class\" , \"propAddressCollapse\"})[0].text)\n",
    "        try:\n",
    "            d[\"Locality\"] = (item.find_all(\"span\", {\"class\" , \"propAddressCollapse\"})[1].text)\n",
    "        except:\n",
    "            d[\"Locality\"] = (None)\n",
    "        d[\"Price\"] = (item.find(\"h4\", {\"class\", \"propPrice\"}).text.replace(\"\\n\", \"\").replace(\" \", \"\"))\n",
    "        #now extract number of beds/bath\n",
    "        #try to pass bed info, but if nothing there then return None\n",
    "        try:\n",
    "            d[\"Beds\"] = (item.find(\"span\", {\"class\" , \"infoBed\"}).find(\"b\").text)\n",
    "        except:\n",
    "            d[\"Beds\"] = (None)\n",
    "        #try to pass bathroom info, but if nothing there then return None\n",
    "        try:\n",
    "            d[\"Area\"] = (item.find(\"span\", {\"class\" , \"infoSqFt\"}).find(\"b\").text)\n",
    "        except:\n",
    "            d[\"Area\"] = (None)\n",
    "        #try to pass square footage, but if nothing there then return None\n",
    "        try:\n",
    "            d[\"FullBath\"]=(item.find(\"span\", {\"class\" , \"infoValueFullBath\"}).find(\"b\").text)\n",
    "        except:\n",
    "            d[\"FullBath\"]=(None)\n",
    "        #try to pass half bath, but if nothing there then return None\n",
    "        try:\n",
    "            d[\"HalfBath\"]=(item.find(\"span\", {\"class\" , \"infoValueHalfBath\"}).find(\"b\").text)\n",
    "        except:\n",
    "            d[\"HalfBath\"]=(None)\n",
    "        #extract lot size information traversing through for unique identifier (lot size)\n",
    "        for column_group in item.find_all(\"div\", {\"class\": \"columnGroup\"}):\n",
    "            for feature_group, feature_name in zip(column_group.find_all(\"span\",{\"class\": \"featureGroup\"}), column_group.find_all(\"span\", {\"class\": \"featureName\"})):\n",
    "                if \"Lot Size\" in feature_group.text:\n",
    "                    d[\"LotSize\"]=(\"Lot size: \" + feature_name.text)\n",
    "        l.append(d)"
   ]
  },
  {
   "cell_type": "code",
   "execution_count": 36,
   "metadata": {},
   "outputs": [],
   "source": [
    "#create dataframe\n",
    "import pandas\n",
    "df=pandas.DataFrame(l)\n",
    "\n",
    "df.to_csv(\"Output.csv\")\n",
    "\n"
   ]
  }
 ],
 "metadata": {
  "kernelspec": {
   "display_name": "Python 3",
   "language": "python",
   "name": "python3"
  },
  "language_info": {
   "codemirror_mode": {
    "name": "ipython",
    "version": 3
   },
   "file_extension": ".py",
   "mimetype": "text/x-python",
   "name": "python",
   "nbconvert_exporter": "python",
   "pygments_lexer": "ipython3",
   "version": "3.8.0"
  }
 },
 "nbformat": 4,
 "nbformat_minor": 4
}
